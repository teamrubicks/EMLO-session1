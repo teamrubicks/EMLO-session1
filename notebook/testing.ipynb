{
 "cells": [
  {
   "cell_type": "code",
   "execution_count": 8,
   "source": [
    "from torch.utils.data import DataLoader, Dataset\r\n",
    "import torch.nn as nn\r\n",
    "from torchsummary import summary\r\n",
    "import torch\r\n",
    "import torch.nn.functional as F\r\n",
    "import numpy as np\r\n",
    "import importlib \r\n",
    "import config\r\n",
    "importlib.reload(config)"
   ],
   "outputs": [
    {
     "output_type": "execute_result",
     "data": {
      "text/plain": [
       "<module 'config' from 'e:\\\\TSAI\\\\EMLO\\\\EMLO-session1\\\\config.py'>"
      ]
     },
     "metadata": {},
     "execution_count": 8
    }
   ],
   "metadata": {}
  },
  {
   "cell_type": "code",
   "execution_count": 9,
   "source": [
    "class DatasetFromArray(Dataset):\r\n",
    "    def __init__(self, featurepath, labelpath):\r\n",
    "        self.data = np.load(open(featurepath, 'rb'))\r\n",
    "        self.labels = np.load(open(labelpath, 'rb'))\r\n",
    "    \r\n",
    "    def __len__(self):\r\n",
    "        return len(self.data)\r\n",
    "    \r\n",
    "    def __getitem__(self, index):\r\n",
    "        return {'data': torch.tensor(self.data[index], dtype=torch.float32), 'target': torch.tensor(self.labels[index],dtype=torch.long)}\r\n",
    "    "
   ],
   "outputs": [],
   "metadata": {}
  },
  {
   "cell_type": "code",
   "execution_count": 10,
   "source": [
    "train_ds = DatasetFromArray(config.TRAIN_FEATURES, config.TRAIN_LABELS)\r\n",
    "valid_ds = DatasetFromArray(config.VALID_FEATURES, config.VALID_LABELS)"
   ],
   "outputs": [],
   "metadata": {}
  },
  {
   "cell_type": "code",
   "execution_count": 11,
   "source": [
    "train_loader = DataLoader(train_ds, batch_size=16, shuffle=True, pin_memory=True)\r\n",
    "valid_loader = DataLoader(valid_ds, batch_size=16, pin_memory=True)"
   ],
   "outputs": [],
   "metadata": {}
  },
  {
   "cell_type": "code",
   "execution_count": 12,
   "source": [
    "class Model(nn.Module):\r\n",
    "    def __init__(self):\r\n",
    "        super().__init__()\r\n",
    "        self.model = nn.Sequential(\r\n",
    "            nn.Conv2d(512, 64, kernel_size=3, bias=False),\r\n",
    "            nn.ReLU(),\r\n",
    "            nn.BatchNorm2d(64),\r\n",
    "            nn.Dropout(0.5),\r\n",
    "            \r\n",
    "            nn.Conv2d(64,2, kernel_size=3, bias=False),\r\n",
    "            nn.AvgPool2d(3)\r\n",
    "\r\n",
    "        )\r\n",
    "    \r\n",
    "    def forward(self, x):\r\n",
    "        x = self.model(x)\r\n",
    "        x = x.view(-1, 2)\r\n",
    "        return F.log_softmax(x, dim=1)"
   ],
   "outputs": [],
   "metadata": {}
  },
  {
   "cell_type": "code",
   "execution_count": 13,
   "source": [
    "\r\n",
    "model = Model().to('cuda')\r\n",
    "summary(model, input_size=(512,7,7))"
   ],
   "outputs": [
    {
     "output_type": "stream",
     "name": "stdout",
     "text": [
      "----------------------------------------------------------------\n",
      "        Layer (type)               Output Shape         Param #\n",
      "================================================================\n",
      "            Conv2d-1             [-1, 64, 5, 5]         294,912\n",
      "              ReLU-2             [-1, 64, 5, 5]               0\n",
      "       BatchNorm2d-3             [-1, 64, 5, 5]             128\n",
      "           Dropout-4             [-1, 64, 5, 5]               0\n",
      "            Conv2d-5              [-1, 2, 3, 3]           1,152\n",
      "         AvgPool2d-6              [-1, 2, 1, 1]               0\n",
      "================================================================\n",
      "Total params: 296,192\n",
      "Trainable params: 296,192\n",
      "Non-trainable params: 0\n",
      "----------------------------------------------------------------\n",
      "Input size (MB): 0.10\n",
      "Forward/backward pass size (MB): 0.05\n",
      "Params size (MB): 1.13\n",
      "Estimated Total Size (MB): 1.27\n",
      "----------------------------------------------------------------\n"
     ]
    }
   ],
   "metadata": {}
  },
  {
   "cell_type": "code",
   "execution_count": 26,
   "source": [
    "from tqdm import tqdm\r\n",
    "from functools import partial\r\n",
    "import torch.nn.functional as F\r\n",
    "tqdm = partial(tqdm, leave=True, position=0)\r\n",
    "model = Model()\r\n",
    "model.to('cuda')\r\n",
    "optimizer = torch.optim.Adam(model.parameters(), lr=0.001)\r\n",
    "# criterion = nn.CrossEntropyLoss().to('cuda')\r\n",
    "\r\n",
    "\r\n",
    "\r\n",
    "\r\n",
    "\r\n",
    "def train(model, train_loader, optimizer):\r\n",
    "    model.train()\r\n",
    "    train_loss = 0\r\n",
    "    correct = 0\r\n",
    "    conf_mat = np.zeros((2,2))\r\n",
    "    all_target_labels = []\r\n",
    "    all_pred_labels = []\r\n",
    "\r\n",
    "\r\n",
    "\r\n",
    "    for _, data in tqdm(enumerate(train_loader), total=len(train_loader)):\r\n",
    "\r\n",
    "        # update the counts for 0 and 1 in the current batch\r\n",
    "        target = data['target']\r\n",
    "        all_target_labels.extend(target.numpy())\r\n",
    "        data, target = data['data'].to('cuda'),target.to('cuda')\r\n",
    "\r\n",
    "        optimizer.zero_grad()\r\n",
    "        output = model(data)\r\n",
    "        loss = F.nll_loss(output, target)\r\n",
    "        train_loss += loss.detach()\r\n",
    "        loss.backward()\r\n",
    "        optimizer.step()\r\n",
    "\r\n",
    "        pred = output.argmax(dim=1, keepdim=True)\r\n",
    "        all_pred_labels.extend(pred.cpu().numpy())\r\n",
    "\r\n",
    "        \r\n",
    "            \r\n",
    "        # overall accuracy\r\n",
    "        correct += pred.eq(target.view_as(pred)).sum().item()\r\n",
    "    \r\n",
    "    # return train_loss, correct\r\n",
    "    for (i,j) in zip(all_target_labels, all_pred_labels):\r\n",
    "        conf_mat[i,j] += 1\r\n",
    "    print(\r\n",
    "            f\"Training loss = {train_loss * 1.0 / len(train_loader.dataset)},Training Accuracy : {100.0 * correct / len(train_loader.dataset)}, Class 1 accuracy: { conf_mat[1,1]/(conf_mat[1,1] + conf_mat[1,0])}, Class 0 accuracy : {conf_mat[0,0]/(conf_mat[0,0] + conf_mat[0,1])}\", \r\n",
    "        )\r\n",
    "\r\n",
    "def evaluate(model, valid_loader):\r\n",
    "    model.eval()\r\n",
    "    valid_loss = 0\r\n",
    "    correct = 0\r\n",
    "    conf_mat = np.zeros((2,2))\r\n",
    "    all_target_labels = []\r\n",
    "    all_pred_labels = []\r\n",
    "    with torch.no_grad():\r\n",
    "        for _, data in tqdm(enumerate(valid_loader), total=len(valid_loader)):\r\n",
    "            target = data['target']\r\n",
    "            all_target_labels.extend(target.numpy())\r\n",
    "            data, target = data['data'].to('cuda'), target.to('cuda')\r\n",
    "            output = model(data)\r\n",
    "            valid_loss +=F.nll_loss(output, target, reduction='sum').item()\r\n",
    "\r\n",
    "            pred = output.argmax(dim=1, keepdim=True)\r\n",
    "            all_pred_labels.extend(pred.cpu().numpy())\r\n",
    "            correct += pred.eq(target.view_as(pred)).sum().item()\r\n",
    "    \r\n",
    "    for (i,j) in zip(all_target_labels, all_pred_labels):\r\n",
    "        conf_mat[i,j] += 1\r\n",
    "    print(\r\n",
    "            f\"Valid loss = {valid_loss * 1.0 / len(valid_loader.dataset)}, Valid Accuracy : {100.0 * correct / len(valid_loader.dataset)} Class 1 accuracy: { conf_mat[1,1]/(conf_mat[1,1] + conf_mat[1,0])}, Class 0 accuracy : {conf_mat[0,0]/(conf_mat[0,0] + conf_mat[0,1])}\"\r\n",
    "        )\r\n",
    "\r\n",
    "for i in range(10):\r\n",
    "    print(f'EPOCH {i+1}')\r\n",
    "    train(model, train_loader, optimizer)\r\n",
    "    evaluate(model, valid_loader)\r\n"
   ],
   "outputs": [
    {
     "output_type": "stream",
     "name": "stdout",
     "text": [
      "EPOCH 1\n"
     ]
    },
    {
     "output_type": "stream",
     "name": "stderr",
     "text": [
      "100%|██████████| 63/63 [00:00<00:00, 213.76it/s]\n"
     ]
    },
    {
     "output_type": "stream",
     "name": "stdout",
     "text": [
      "Training loss = 0.019314173609018326,Training Accuracy : 86.6, Class 1 accuracy: 0.836, Class 0 accuracy : 0.896\n"
     ]
    },
    {
     "output_type": "stream",
     "name": "stderr",
     "text": [
      "100%|██████████| 50/50 [00:00<00:00, 271.74it/s]\n"
     ]
    },
    {
     "output_type": "stream",
     "name": "stdout",
     "text": [
      "Valid loss = 0.23307672169059515, Valid Accuracy : 89.625 Class 1 accuracy: 0.875, Class 0 accuracy : 0.9175\n",
      "EPOCH 2\n"
     ]
    },
    {
     "output_type": "stream",
     "name": "stderr",
     "text": [
      "100%|██████████| 63/63 [00:00<00:00, 221.06it/s]\n"
     ]
    },
    {
     "output_type": "stream",
     "name": "stdout",
     "text": [
      "Training loss = 0.009407734498381615,Training Accuracy : 93.9, Class 1 accuracy: 0.932, Class 0 accuracy : 0.946\n"
     ]
    },
    {
     "output_type": "stream",
     "name": "stderr",
     "text": [
      "100%|██████████| 50/50 [00:00<00:00, 257.73it/s]\n"
     ]
    },
    {
     "output_type": "stream",
     "name": "stdout",
     "text": [
      "Valid loss = 0.23376122679561376, Valid Accuracy : 91.25 Class 1 accuracy: 0.9225, Class 0 accuracy : 0.9025\n",
      "EPOCH 3\n"
     ]
    },
    {
     "output_type": "stream",
     "name": "stderr",
     "text": [
      "100%|██████████| 63/63 [00:00<00:00, 202.20it/s]\n"
     ]
    },
    {
     "output_type": "stream",
     "name": "stdout",
     "text": [
      "Training loss = 0.006166844163089991,Training Accuracy : 96.6, Class 1 accuracy: 0.958, Class 0 accuracy : 0.974\n"
     ]
    },
    {
     "output_type": "stream",
     "name": "stderr",
     "text": [
      "100%|██████████| 50/50 [00:00<00:00, 242.72it/s]\n"
     ]
    },
    {
     "output_type": "stream",
     "name": "stdout",
     "text": [
      "Valid loss = 0.2645189478993416, Valid Accuracy : 90.375 Class 1 accuracy: 0.9, Class 0 accuracy : 0.9075\n",
      "EPOCH 4\n"
     ]
    },
    {
     "output_type": "stream",
     "name": "stderr",
     "text": [
      "100%|██████████| 63/63 [00:00<00:00, 207.27it/s]\n"
     ]
    },
    {
     "output_type": "stream",
     "name": "stdout",
     "text": [
      "Training loss = 0.0033596709836274385,Training Accuracy : 97.9, Class 1 accuracy: 0.98, Class 0 accuracy : 0.978\n"
     ]
    },
    {
     "output_type": "stream",
     "name": "stderr",
     "text": [
      "100%|██████████| 50/50 [00:00<00:00, 283.10it/s]\n"
     ]
    },
    {
     "output_type": "stream",
     "name": "stdout",
     "text": [
      "Valid loss = 0.2892590910755098, Valid Accuracy : 90.25 Class 1 accuracy: 0.8875, Class 0 accuracy : 0.9175\n",
      "EPOCH 5\n"
     ]
    },
    {
     "output_type": "stream",
     "name": "stderr",
     "text": [
      "100%|██████████| 63/63 [00:00<00:00, 220.37it/s]\n"
     ]
    },
    {
     "output_type": "stream",
     "name": "stdout",
     "text": [
      "Training loss = 0.001859536743722856,Training Accuracy : 99.1, Class 1 accuracy: 0.994, Class 0 accuracy : 0.988\n"
     ]
    },
    {
     "output_type": "stream",
     "name": "stderr",
     "text": [
      "100%|██████████| 50/50 [00:00<00:00, 287.44it/s]\n"
     ]
    },
    {
     "output_type": "stream",
     "name": "stdout",
     "text": [
      "Valid loss = 0.3573951233830303, Valid Accuracy : 89.625 Class 1 accuracy: 0.86, Class 0 accuracy : 0.9325\n",
      "EPOCH 6\n"
     ]
    },
    {
     "output_type": "stream",
     "name": "stderr",
     "text": [
      "100%|██████████| 63/63 [00:00<00:00, 213.56it/s]\n"
     ]
    },
    {
     "output_type": "stream",
     "name": "stdout",
     "text": [
      "Training loss = 0.002166650490835309,Training Accuracy : 98.7, Class 1 accuracy: 0.98, Class 0 accuracy : 0.994\n"
     ]
    },
    {
     "output_type": "stream",
     "name": "stderr",
     "text": [
      "100%|██████████| 50/50 [00:00<00:00, 282.49it/s]\n"
     ]
    },
    {
     "output_type": "stream",
     "name": "stdout",
     "text": [
      "Valid loss = 0.36240630837157367, Valid Accuracy : 90.375 Class 1 accuracy: 0.855, Class 0 accuracy : 0.9525\n",
      "EPOCH 7\n"
     ]
    },
    {
     "output_type": "stream",
     "name": "stderr",
     "text": [
      "100%|██████████| 63/63 [00:00<00:00, 224.96it/s]\n"
     ]
    },
    {
     "output_type": "stream",
     "name": "stdout",
     "text": [
      "Training loss = 0.001127863535657525,Training Accuracy : 99.8, Class 1 accuracy: 0.996, Class 0 accuracy : 1.0\n"
     ]
    },
    {
     "output_type": "stream",
     "name": "stderr",
     "text": [
      "100%|██████████| 50/50 [00:00<00:00, 276.13it/s]\n"
     ]
    },
    {
     "output_type": "stream",
     "name": "stdout",
     "text": [
      "Valid loss = 0.41333975264802575, Valid Accuracy : 89.5 Class 1 accuracy: 0.8575, Class 0 accuracy : 0.9325\n",
      "EPOCH 8\n"
     ]
    },
    {
     "output_type": "stream",
     "name": "stderr",
     "text": [
      "100%|██████████| 63/63 [00:00<00:00, 218.70it/s]\n"
     ]
    },
    {
     "output_type": "stream",
     "name": "stdout",
     "text": [
      "Training loss = 0.001026609679684043,Training Accuracy : 99.5, Class 1 accuracy: 0.994, Class 0 accuracy : 0.996\n"
     ]
    },
    {
     "output_type": "stream",
     "name": "stderr",
     "text": [
      "100%|██████████| 50/50 [00:00<00:00, 277.52it/s]\n"
     ]
    },
    {
     "output_type": "stream",
     "name": "stdout",
     "text": [
      "Valid loss = 0.393236424960196, Valid Accuracy : 90.75 Class 1 accuracy: 0.895, Class 0 accuracy : 0.92\n",
      "EPOCH 9\n"
     ]
    },
    {
     "output_type": "stream",
     "name": "stderr",
     "text": [
      "100%|██████████| 63/63 [00:00<00:00, 178.40it/s]\n"
     ]
    },
    {
     "output_type": "stream",
     "name": "stdout",
     "text": [
      "Training loss = 0.0009772186167538166,Training Accuracy : 99.6, Class 1 accuracy: 0.996, Class 0 accuracy : 0.996\n"
     ]
    },
    {
     "output_type": "stream",
     "name": "stderr",
     "text": [
      "100%|██████████| 50/50 [00:00<00:00, 265.96it/s]\n"
     ]
    },
    {
     "output_type": "stream",
     "name": "stdout",
     "text": [
      "Valid loss = 0.4036073768977076, Valid Accuracy : 89.25 Class 1 accuracy: 0.8725, Class 0 accuracy : 0.9125\n",
      "EPOCH 10\n"
     ]
    },
    {
     "output_type": "stream",
     "name": "stderr",
     "text": [
      "100%|██████████| 63/63 [00:00<00:00, 214.63it/s]\n"
     ]
    },
    {
     "output_type": "stream",
     "name": "stdout",
     "text": [
      "Training loss = 0.0006236975896172225,Training Accuracy : 99.8, Class 1 accuracy: 0.996, Class 0 accuracy : 1.0\n"
     ]
    },
    {
     "output_type": "stream",
     "name": "stderr",
     "text": [
      "100%|██████████| 50/50 [00:00<00:00, 267.27it/s]"
     ]
    },
    {
     "output_type": "stream",
     "name": "stdout",
     "text": [
      "Valid loss = 0.4250976419710787, Valid Accuracy : 89.25 Class 1 accuracy: 0.9, Class 0 accuracy : 0.885\n"
     ]
    },
    {
     "output_type": "stream",
     "name": "stderr",
     "text": [
      "\n"
     ]
    }
   ],
   "metadata": {}
  },
  {
   "cell_type": "code",
   "execution_count": null,
   "source": [],
   "outputs": [],
   "metadata": {}
  }
 ],
 "metadata": {
  "orig_nbformat": 4,
  "language_info": {
   "name": "python",
   "version": "3.9.7",
   "mimetype": "text/x-python",
   "codemirror_mode": {
    "name": "ipython",
    "version": 3
   },
   "pygments_lexer": "ipython3",
   "nbconvert_exporter": "python",
   "file_extension": ".py"
  },
  "kernelspec": {
   "name": "python3",
   "display_name": "Python 3.9.7 64-bit ('base': conda)"
  },
  "interpreter": {
   "hash": "9131c53ea609b1c83a4930f9ef9b895156b0f40bc80fb8f9ee0bf5a21c6927cd"
  }
 },
 "nbformat": 4,
 "nbformat_minor": 2
}